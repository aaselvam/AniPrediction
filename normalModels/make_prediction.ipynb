{
 "cells": [
  {
   "cell_type": "code",
   "execution_count": null,
   "metadata": {},
   "outputs": [],
   "source": [
    "import tensorflow as tf\n",
    "import tensorflow.keras as keras\n",
    "from keras.models import load_model\n",
    "\n",
    "m = []\n",
    "\n",
    "i = 1\n",
    "for i < 11:\n",
    "    model = load_model('saved_model.pb')\n",
    "    model.compile(loss='mse', optimizer=optimizer, metrics=['mse', 'mae'])\n",
    "    m.append(model)\n",
    "\n",
    "avg = 0\n",
    "\n",
    "input_pred = []\n"
   ]
  }
 ],
 "metadata": {
  "kernelspec": {
   "display_name": "Python 3.7 (tensorflow)",
   "language": "python",
   "name": "tensorflow"
  },
  "language_info": {
   "codemirror_mode": {
    "name": "ipython",
    "version": 3
   },
   "file_extension": ".py",
   "mimetype": "text/x-python",
   "name": "python",
   "nbconvert_exporter": "python",
   "pygments_lexer": "ipython3",
   "version": "3.7.7"
  }
 },
 "nbformat": 4,
 "nbformat_minor": 4
}
